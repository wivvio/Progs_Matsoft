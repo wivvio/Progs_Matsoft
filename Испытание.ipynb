{
 "cells": [
  {
   "cell_type": "code",
   "execution_count": 79,
   "id": "654f39f7",
   "metadata": {},
   "outputs": [],
   "source": [
    "def funct(a):\n",
    "    s = len(a)\n",
    "    b = [0 for i in range(s)]\n",
    "    for i in range (1, s):\n",
    "        for j in range (0, i):\n",
    "            if a[j]==a[i]:\n",
    "                b[i]=1\n",
    "    c = []\n",
    "    for i in range (s):\n",
    "        if b[i]==0:\n",
    "            c.append(a[i])\n",
    "    return(c)"
   ]
  },
  {
   "cell_type": "code",
   "execution_count": 1,
   "id": "55508e00",
   "metadata": {},
   "outputs": [],
   "source": [
    "def func(a):\n",
    "    import json\n",
    "    s = len(a)\n",
    "    for i in range (s):\n",
    "        a[i] = json.dumps(a[i])\n",
    "    a = sorted(a)\n",
    "    i = 0\n",
    "    while (i<s-1):\n",
    "        if (a[i]==a[i+1]):\n",
    "            del(a[i+1])\n",
    "            s=s-1\n",
    "        else:\n",
    "            i=i+1\n",
    "    for i in range(s):\n",
    "        a[i] = json.loads(a[i])\n",
    "    return(a)"
   ]
  },
  {
   "cell_type": "code",
   "execution_count": 2,
   "id": "a6e93ace",
   "metadata": {},
   "outputs": [],
   "source": [
    "k =  [{\"key1\": \"value1\"}, {\"k1\": \"v1\", \"k2\": \"v2\", \"k3\": \"v3\"}, {}, {}, {\"key1\": \"value1\"}, {\"key1\": \"value1\"}, {\"key2\": \"value2\"}]"
   ]
  },
  {
   "cell_type": "code",
   "execution_count": 3,
   "id": "3f4f2929",
   "metadata": {},
   "outputs": [
    {
     "data": {
      "text/plain": [
       "[{'k1': 'v1', 'k2': 'v2', 'k3': 'v3'},\n",
       " {'key1': 'value1'},\n",
       " {'key2': 'value2'},\n",
       " {}]"
      ]
     },
     "execution_count": 3,
     "metadata": {},
     "output_type": "execute_result"
    }
   ],
   "source": [
    "func(k)"
   ]
  },
  {
   "cell_type": "code",
   "execution_count": null,
   "id": "8dfb4b4c",
   "metadata": {},
   "outputs": [],
   "source": []
  }
 ],
 "metadata": {
  "kernelspec": {
   "display_name": "Python 3 (ipykernel)",
   "language": "python",
   "name": "python3"
  },
  "language_info": {
   "codemirror_mode": {
    "name": "ipython",
    "version": 3
   },
   "file_extension": ".py",
   "mimetype": "text/x-python",
   "name": "python",
   "nbconvert_exporter": "python",
   "pygments_lexer": "ipython3",
   "version": "3.9.12"
  }
 },
 "nbformat": 4,
 "nbformat_minor": 5
}
